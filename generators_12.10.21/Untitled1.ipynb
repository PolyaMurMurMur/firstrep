{
 "cells": [
  {
   "cell_type": "code",
   "execution_count": 1,
   "id": "c1e7a149",
   "metadata": {},
   "outputs": [
    {
     "name": "stdout",
     "output_type": "stream",
     "text": [
      "[(0, 'MAI'), (1, 'Lambda'), (2, 'Python')]\n",
      "[(0, 'H'), (1, 'e'), (2, 'l'), (3, 'l'), (4, 'o'), (5, ' '), (6, 'M'), (7, 'A'), (8, 'I'), (9, '!')]\n"
     ]
    }
   ],
   "source": [
    "# Задача с генераторами 1\n",
    "\n",
    "def own_enumerate(arr):\n",
    "    a = 0\n",
    "    for i in arr:\n",
    "        b = (a, i)\n",
    "        yield b\n",
    "        a = a + 1\n",
    "pass\n",
    "\n",
    "print(list(own_enumerate(['MAI', 'Lambda', 'Python'])))\n",
    "# [(0, 'MAI'), (1, 'Lambda'), (2, 'Python')]\n",
    "\n",
    "print(list(own_enumerate('Hello MAI!')))\n",
    "# [(0, 'H'), (1, 'e'), (2, 'l'), (3, 'l'), (4, 'o'), (5, ' '), (6, 'M'), (7, 'A'), (8, 'I'), (9, '!')]"
   ]
  },
  {
   "cell_type": "code",
   "execution_count": 2,
   "id": "c81c87b9",
   "metadata": {},
   "outputs": [
    {
     "name": "stdout",
     "output_type": "stream",
     "text": [
      "[('M', 'L'), ('A', 'a'), ('I', 'm')]\n",
      "[('H', 5), ('e', 1), ('l', 0), ('l', 5)]\n"
     ]
    }
   ],
   "source": [
    "\n",
    "# Задача с генераторами 2\n",
    "\n",
    "def own_zip (a, b):\n",
    "    if len (a) > len (b): \n",
    "        length = len(b)\n",
    "    else :\n",
    "        length = len(a)\n",
    "    for i in range (0, length):\n",
    "        d = (a[i], b[i])\n",
    "        yield d\n",
    "pass\n",
    "print(list(own_zip('MAI', 'Lambda')))\n",
    "# [('M', 'L'), ('A', 'a'), ('I', 'm')]\n",
    "\n",
    "print(list(own_zip('Hello', [5, 1, 0, 5])))\n",
    "# [('H', 5), ('e', 1), ('l', 0), ('l', 5)]"
   ]
  },
  {
   "cell_type": "code",
   "execution_count": null,
   "id": "27fae801",
   "metadata": {},
   "outputs": [],
   "source": []
  }
 ],
 "metadata": {
  "kernelspec": {
   "display_name": "Python 3 (ipykernel)",
   "language": "python",
   "name": "python3"
  },
  "language_info": {
   "codemirror_mode": {
    "name": "ipython",
    "version": 3
   },
   "file_extension": ".py",
   "mimetype": "text/x-python",
   "name": "python",
   "nbconvert_exporter": "python",
   "pygments_lexer": "ipython3",
   "version": "3.9.7"
  }
 },
 "nbformat": 4,
 "nbformat_minor": 5
}
