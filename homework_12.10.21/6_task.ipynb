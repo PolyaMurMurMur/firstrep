{
 "cells": [
  {
   "cell_type": "markdown",
   "id": "49944faf",
   "metadata": {},
   "source": [
    "# Самостоятельное задание #6\n",
    "\n",
    "\n",
    "### Задание 1\n",
    "\n",
    "\n",
    "Допишите функцию, которая принимает несколько параметров. Первый параметр - словарь, второй параметр - один из ключей данного словаря. Функция должна выводить значение этого ключа."
   ]
  },
  {
   "cell_type": "code",
   "execution_count": 1,
   "id": "3f41a526",
   "metadata": {},
   "outputs": [
    {
     "name": "stdout",
     "output_type": "stream",
     "text": [
      "Candy\n",
      "7\n"
     ]
    }
   ],
   "source": [
    "def key_value(dir, key):\n",
    "    print(dir.get(key))\n",
    "\n",
    "\n",
    "dir = {\n",
    "    'Cinnamon': 5,\n",
    "    'Cake': 85,\n",
    "    'Candy': 7,\n",
    "    'Cupcake': 0.09,\n",
    "    'Pancake': 30,\n",
    "    'Pie': 24,\n",
    "    'Caramel': 14\n",
    "}\n",
    "\n",
    "key = str(input())\n",
    "key_value(dir, key)"
   ]
  }
 ],
 "metadata": {
  "kernelspec": {
   "display_name": "Python 3 (ipykernel)",
   "language": "python",
   "name": "python3"
  },
  "language_info": {
   "codemirror_mode": {
    "name": "ipython",
    "version": 3
   },
   "file_extension": ".py",
   "mimetype": "text/x-python",
   "name": "python",
   "nbconvert_exporter": "python",
   "pygments_lexer": "ipython3",
   "version": "3.9.7"
  }
 },
 "nbformat": 4,
 "nbformat_minor": 5
}
