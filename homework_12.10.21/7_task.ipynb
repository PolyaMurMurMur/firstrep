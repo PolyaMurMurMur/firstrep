{
 "cells": [
  {
   "cell_type": "markdown",
   "id": "d89e88d8",
   "metadata": {},
   "source": [
    "# Самостоятельное задание #7\n",
    "\n",
    "\n",
    "### Задание 1\n",
    "\n",
    "Допишите функцию, которая принимает список чисел и, с помощью множеств, определяет количество различных чисел внутри списка."
   ]
  },
  {
   "cell_type": "code",
   "execution_count": 2,
   "id": "1b443f02",
   "metadata": {},
   "outputs": [
    {
     "name": "stdout",
     "output_type": "stream",
     "text": [
      "8\n"
     ]
    }
   ],
   "source": [
    "def quantity_determinant(list):\n",
    "    set_1 = set(list)\n",
    "    print(len(set_1))\n",
    "\n",
    "\n",
    "list = [5, 9, 4, 7, 15, 8, 21, 21, 13]\n",
    "\n",
    "\n",
    "quantity_determinant(list)"
   ]
  },
  {
   "cell_type": "markdown",
   "id": "89118666",
   "metadata": {},
   "source": [
    "### Задание 2\n",
    "\n",
    "Допишите функцию, которая принимает несколько списков чисел и, с помощью множеств, определяет количество общих чисел из первого и второго списка."
   ]
  },
  {
   "cell_type": "code",
   "execution_count": 3,
   "id": "9ad5e3fd",
   "metadata": {},
   "outputs": [
    {
     "name": "stdout",
     "output_type": "stream",
     "text": [
      "8\n"
     ]
    }
   ],
   "source": [
    "def determinant_of_common_numbers(list_1, list_2):\n",
    "    set_1, set_2 = set(list_1), set(list_2)\n",
    "    total = set_1 & set_2\n",
    "    print(len(total))\n",
    "\n",
    "\n",
    "list_1 = [1, 2, 3, 4, 5, 6, 7, 8, 9]\n",
    "list_2 = [1, 2, 3, 4, 5, 6, 7, 8]\n",
    "\n",
    "\n",
    "determinant_of_common_numbers(list_1, list_2)"
   ]
  }
 ],
 "metadata": {
  "kernelspec": {
   "display_name": "Python 3 (ipykernel)",
   "language": "python",
   "name": "python3"
  },
  "language_info": {
   "codemirror_mode": {
    "name": "ipython",
    "version": 3
   },
   "file_extension": ".py",
   "mimetype": "text/x-python",
   "name": "python",
   "nbconvert_exporter": "python",
   "pygments_lexer": "ipython3",
   "version": "3.9.7"
  }
 },
 "nbformat": 4,
 "nbformat_minor": 5
}
