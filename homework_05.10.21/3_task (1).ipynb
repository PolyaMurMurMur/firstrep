{
 "cells": [
  {
   "cell_type": "markdown",
   "id": "657be689",
   "metadata": {},
   "source": [
    "# Самостоятельное задание #3\n",
    "\n",
    "\n",
    "### Задание 1\n",
    "\n",
    "Допишите функцию, которая принимает массив из 10 чисел и возвращает их сумму."
   ]
  },
  {
   "cell_type": "code",
   "execution_count": 15,
   "id": "18ffcbab",
   "metadata": {
    "scrolled": true
   },
   "outputs": [
    {
     "data": {
      "text/plain": [
       "308"
      ]
     },
     "execution_count": 15,
     "metadata": {},
     "output_type": "execute_result"
    }
   ],
   "source": [
    "a = [30, 1, 25, 100, 8, 7, 9, 12, 38, 78]\n",
    "def sum_mas10(a: list) -> float:\n",
    "    b = len(a)\n",
    "    if b != 10:\n",
    "        print('Меньше 10 элементов')\n",
    "        return\n",
    "    sum = 0\n",
    "    for i in a:\n",
    "        sum += i\n",
    "    return sum\n",
    "\n",
    "    \n",
    "sum_mas10(a)"
   ]
  },
  {
   "cell_type": "markdown",
   "id": "eb78afc0",
   "metadata": {},
   "source": [
    "\n",
    "### Задание 2\n",
    "\n",
    "Допишите функцию, которая принимает массив чисел и возвращает количество чисел равных нулю."
   ]
  },
  {
   "cell_type": "code",
   "execution_count": 16,
   "id": "7e8fe536",
   "metadata": {},
   "outputs": [
    {
     "data": {
      "text/plain": [
       "5"
      ]
     },
     "execution_count": 16,
     "metadata": {},
     "output_type": "execute_result"
    }
   ],
   "source": [
    "a = [0,0,25,100,50,68,0,0,0,15]\n",
    "def ret_quantity0(a) -> float:\n",
    "    b = 0\n",
    "    for i in a:\n",
    "        if i == 0:\n",
    "            b += 1\n",
    "    return b\n",
    "\n",
    "ret_quantity0(a)"
   ]
  },
  {
   "cell_type": "markdown",
   "id": "570d5a26",
   "metadata": {},
   "source": [
    "\n",
    "### Задание 3\n",
    "\n",
    "Напишите программу, в которой задается  натуральное число n и выводится лестница из n ступенек, i-я ступенька должна состоять из чисел от 1 до i без пробелов."
   ]
  },
  {
   "cell_type": "code",
   "execution_count": 17,
   "id": "69fd0501",
   "metadata": {},
   "outputs": [
    {
     "name": "stdout",
     "output_type": "stream",
     "text": [
      "1\n",
      "12\n",
      "123\n",
      "1234\n",
      "12345\n",
      "123456\n",
      "1234567\n",
      "12345678\n",
      "123456789\n",
      "12345678910\n",
      "1234567891011\n",
      "123456789101112\n",
      "12345678910111213\n",
      "1234567891011121314\n",
      "123456789101112131415\n",
      "12345678910111213141516\n",
      "1234567891011121314151617\n",
      "123456789101112131415161718\n",
      "12345678910111213141516171819\n",
      "1234567891011121314151617181920\n",
      "123456789101112131415161718192021\n",
      "12345678910111213141516171819202122\n",
      "1234567891011121314151617181920212223\n",
      "123456789101112131415161718192021222324\n",
      "12345678910111213141516171819202122232425\n"
     ]
    }
   ],
   "source": [
    "def ladder(n:int) -> int:\n",
    "    for i in range(1, n + 1):\n",
    "        a = ''\n",
    "        for b in range(1, i + 1):\n",
    "            a += str(b)\n",
    "        else:\n",
    "            print(a)\n",
    "\n",
    "\n",
    "ladder(25)"
   ]
  },
  {
   "cell_type": "markdown",
   "id": "b6ef1c44",
   "metadata": {},
   "source": [
    "\n",
    "### Задание 4\n",
    "\n",
    "Напишите программу, в которой задается натуральное число n и выводится пирамида из n ступенек, i-я ступень должна состоять из чисел от 1 до i и обратно без пробелов."
   ]
  },
  {
   "cell_type": "code",
   "execution_count": 19,
   "id": "6b038f87",
   "metadata": {},
   "outputs": [
    {
     "name": "stdout",
     "output_type": "stream",
     "text": [
      "       1       \n",
      "      121      \n",
      "     12321     \n",
      "    1234321    \n",
      "   123454321   \n",
      "  12345654321  \n",
      " 1234567654321 \n",
      "123456787654321\n"
     ]
    }
   ],
   "source": [
    "def pyramid(a):\n",
    "    for i in range(1, a + 1):\n",
    "        b = ' ' * (a - i)\n",
    "        for j in range(1, i + 1):\n",
    "            b += str(j)\n",
    "        else:\n",
    "            print(b + b[a - 2::-1])\n",
    "\n",
    "pyramid(8)"
   ]
  },
  {
   "cell_type": "markdown",
   "id": "b4552ef5",
   "metadata": {},
   "source": [
    "\n",
    "### Задание 5\n",
    "\n",
    "Напишите программу, в которой задается натуральное число n и выводится ромб из `n*2-1` ступенек, i-я ступень должна состоять из чисел от 1 до i и обратно без пробелов."
   ]
  },
  {
   "cell_type": "code",
   "execution_count": 21,
   "id": "5eaae897",
   "metadata": {},
   "outputs": [
    {
     "name": "stdout",
     "output_type": "stream",
     "text": [
      "           1           \n",
      "          121          \n",
      "         12321         \n",
      "        1234321        \n",
      "       123454321       \n",
      "      12345654321      \n",
      "     1234567654321     \n",
      "    123456787654321    \n",
      "   12345678987654321   \n",
      "  12345678910987654321  \n",
      " 12345678910111987654321 \n",
      "12345678910111201987654321\n",
      " 12345678910111987654321 \n",
      "  12345678910987654321  \n",
      "   12345678987654321   \n",
      "    123456787654321    \n",
      "     1234567654321     \n",
      "      12345654321      \n",
      "       123454321       \n",
      "        1234321        \n",
      "         12321         \n",
      "          121          \n",
      "           1           \n"
     ]
    }
   ],
   "source": [
    "def double_pyramid(a):\n",
    "    for i in range(1, a + 1):\n",
    "        b = ' ' * (a - i)\n",
    "        for j in range(1, i + 1):\n",
    "            b += str(j)\n",
    "        else:\n",
    "            print(b + b[a - 2::-1])\n",
    "\n",
    "    for i in range(a - 1, 0, -1):\n",
    "        b = ' ' * (a - i)\n",
    "        for j in range(1, i + 1):\n",
    "            b += str(j)\n",
    "        else:\n",
    "            print(b + b[a - 2::-1])\n",
    "double_pyramid(12)"
   ]
  },
  {
   "cell_type": "code",
   "execution_count": null,
   "id": "120e61e5",
   "metadata": {},
   "outputs": [],
   "source": []
  }
 ],
 "metadata": {
  "kernelspec": {
   "display_name": "Python 3 (ipykernel)",
   "language": "python",
   "name": "python3"
  },
  "language_info": {
   "codemirror_mode": {
    "name": "ipython",
    "version": 3
   },
   "file_extension": ".py",
   "mimetype": "text/x-python",
   "name": "python",
   "nbconvert_exporter": "python",
   "pygments_lexer": "ipython3",
   "version": "3.9.7"
  }
 },
 "nbformat": 4,
 "nbformat_minor": 5
}
