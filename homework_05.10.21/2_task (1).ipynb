{
 "cells": [
  {
   "cell_type": "markdown",
   "id": "246424fe",
   "metadata": {},
   "source": [
    "# Самостоятельная работа #2\n",
    "### Задание 1\n",
    "\n",
    "Допишите функцию, которая принимает 2 числа, сравнивает между собой и возвращает наименьшее."
   ]
  },
  {
   "cell_type": "code",
   "execution_count": null,
   "id": "1b225d18",
   "metadata": {},
   "outputs": [],
   "source": [
    "a,b = map(float,input().split())\n",
    "if a>b:\n",
    "    print (b)\n",
    "elif b>a:\n",
    "    print (a)\n",
    "elif a==b:\n",
    "    print (\"РАВНЫ\")"
   ]
  },
  {
   "cell_type": "markdown",
   "id": "9342d85f",
   "metadata": {},
   "source": [
    "### Задание 2\n",
    "\n",
    "Допишите функцию, которая принимает 3 числа, сравнивает между собой и возвращает наименьшее."
   ]
  },
  {
   "cell_type": "code",
   "execution_count": null,
   "id": "5371aa95",
   "metadata": {},
   "outputs": [],
   "source": [
    "a, b, с = map(float, input().split())\n",
    "if a > b and c > b:\n",
    "    print (b)\n",
    "elif a > c and b > c:\n",
    "    print (c) \n",
    "elif b > a and c > a:\n",
    "    print (a)\n",
    "elif a == b and a == c:\n",
    "    print (\"РАВНЫ\")"
   ]
  },
  {
   "cell_type": "markdown",
   "id": "9ef85dfd",
   "metadata": {},
   "source": [
    "### Задание 2\n",
    "\n",
    "Допишите функцию, которая принимает 3 числа, сравнивает между собой и возвращает количество совпадающих чисел. Соответственно, программа может возвращать одно из трех чисел: 3 - если совпадают все, 2 - если совпадают 2 числа, 0 - если все числа различны."
   ]
  },
  {
   "cell_type": "code",
   "execution_count": null,
   "id": "ec6a169c",
   "metadata": {},
   "outputs": [],
   "source": [
    "a, b, c = map(float, input().split())\n",
    "if a == b and a == c:\n",
    "    print (\"3\")\n",
    "elif a == b and a != c:\n",
    "    print (\"2\")\n",
    "elif a == c and a != b:\n",
    "    print (\"2\")\n",
    "elif b == c and b != a:\n",
    "    print (\"2\")\n",
    "elif b == a and b != c:\n",
    "    print (\"2\")\n",
    "elif c == a and c != b:\n",
    "    print (\"2\")\n",
    "elif c == b and c != a:\n",
    "    print (\"2\")\n",
    "elif a != b and c != b:\n",
    "    print (\"0\")"
   ]
  }
 ],
 "metadata": {
  "kernelspec": {
   "display_name": "Python 3 (ipykernel)",
   "language": "python",
   "name": "python3"
  },
  "language_info": {
   "codemirror_mode": {
    "name": "ipython",
    "version": 3
   },
   "file_extension": ".py",
   "mimetype": "text/x-python",
   "name": "python",
   "nbconvert_exporter": "python",
   "pygments_lexer": "ipython3",
   "version": "3.9.7"
  }
 },
 "nbformat": 4,
 "nbformat_minor": 5
}
