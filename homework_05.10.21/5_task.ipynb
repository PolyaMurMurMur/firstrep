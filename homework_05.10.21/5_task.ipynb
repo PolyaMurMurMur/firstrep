{
 "cells": [
  {
   "cell_type": "markdown",
   "id": "85755de8",
   "metadata": {},
   "source": [
    "# Самостоятельное задание #5\n",
    "\n",
    "\n",
    "### Задание 1\n",
    "\n",
    "Допишите функцию, которая принимает список, выбирает из него все элементы с четным индексом и возвращает их в виде списка."
   ]
  },
  {
   "cell_type": "code",
   "execution_count": 4,
   "id": "6ef6d9b3",
   "metadata": {},
   "outputs": [
    {
     "name": "stdout",
     "output_type": "stream",
     "text": [
      "Введите элементы списка через пробел: 2 5 63 45 8 \n",
      "['5', '45']\n"
     ]
    }
   ],
   "source": [
    "a = input('Введите элементы списка через пробел: ').split()\n",
    "\n",
    "def even_indexes(a: list) -> list:\n",
    "    b = []\n",
    "    for i in range(1, len(a), 2):\n",
    "        b.append(a[i])\n",
    "    else:\n",
    "        print(b)\n",
    "\n",
    "\n",
    "even_indexes(a)"
   ]
  },
  {
   "cell_type": "markdown",
   "id": "443974c9",
   "metadata": {},
   "source": [
    "### Задание 2\n",
    "\n",
    "Допишите функцию, которая принимает список, выбирает из него все элементы, которые больше предыдущего и возвращает их в виде списка.\n"
   ]
  },
  {
   "cell_type": "code",
   "execution_count": 3,
   "id": "3a8cf925",
   "metadata": {},
   "outputs": [
    {
     "name": "stdout",
     "output_type": "stream",
     "text": [
      "Введите элементы списка через пробел: 1 2 5 86 5 5\n",
      "[2, 5, 86]\n"
     ]
    }
   ],
   "source": [
    "a = [int(i) for i in input('Введите элементы списка через пробел: ').split()]\n",
    "def bigger_than_last(a: list) -> list:\n",
    "    b = []\n",
    "    for i in range(1, len(a)):\n",
    "        if a[i] > a[i - 1]:\n",
    "            b.append(a[i])\n",
    "    else:\n",
    "        print(b)\n",
    "\n",
    "\n",
    "bigger_than_last(a)"
   ]
  },
  {
   "cell_type": "markdown",
   "id": "34524ede",
   "metadata": {},
   "source": [
    "### Задание 3\n",
    "\n",
    "Допишите функцию, которая принимает список, меняет местами наибольший и наименьший элементы и возвращает этот список."
   ]
  },
  {
   "cell_type": "code",
   "execution_count": 6,
   "id": "34d2beae",
   "metadata": {},
   "outputs": [
    {
     "name": "stdout",
     "output_type": "stream",
     "text": [
      "Введите элементы списка через пробел: 2 56 8 5 9 6\n",
      "[56, 2, 8, 5, 9, 6]\n"
     ]
    }
   ],
   "source": [
    "a = [int(i) for i in input('Введите элементы списка через пробел: ').split()]\n",
    "\n",
    "\n",
    "def min_and_max(arr: list) -> int:\n",
    "    min_i = a.index(max(a))\n",
    "    max_i = a.index(min(a))\n",
    "    arr[max_i], arr[min_i] = arr[min_i], arr[max_i]\n",
    "    print(arr)\n",
    "\n",
    "\n",
    "min_and_max(a)"
   ]
  }
 ],
 "metadata": {
  "kernelspec": {
   "display_name": "Python 3 (ipykernel)",
   "language": "python",
   "name": "python3"
  },
  "language_info": {
   "codemirror_mode": {
    "name": "ipython",
    "version": 3
   },
   "file_extension": ".py",
   "mimetype": "text/x-python",
   "name": "python",
   "nbconvert_exporter": "python",
   "pygments_lexer": "ipython3",
   "version": "3.9.7"
  }
 },
 "nbformat": 4,
 "nbformat_minor": 5
}
